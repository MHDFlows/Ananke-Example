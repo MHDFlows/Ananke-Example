{
 "cells": [
  {
   "cell_type": "code",
   "execution_count": 1,
   "id": "7df68a76-4f07-4fa7-97be-cc8d5f066f2a",
   "metadata": {},
   "outputs": [
    {
     "name": "stderr",
     "output_type": "stream",
     "text": [
      "┌ Info: Precompiling Ananke [top-level]\n",
      "└ @ Base loading.jl:1664\n"
     ]
    }
   ],
   "source": [
    "using PyPlot\n",
    "using Ananke"
   ]
  },
  {
   "cell_type": "markdown",
   "id": "55cd8654-ec96-45f8-be14-1ff5dcd918be",
   "metadata": {
    "tags": []
   },
   "source": [
    "# X-dir PLM"
   ]
  },
  {
   "cell_type": "code",
   "execution_count": 2,
   "id": "f5048431-223e-4777-9a0b-e97f7474f780",
   "metadata": {},
   "outputs": [
    {
     "data": {
      "text/plain": [
       "MHDFlows Problem\n",
       "  │    Features\n",
       "  |     ├──────────── EOS: Adiabatic\n",
       "  │     ├──────── B-field: OFF\n",
       "  ├─────├── spatial Order: 2\n",
       "  │     ├───── time Order: 2\n",
       "  │     ├───── resolution: (1024, 1, 1)\n",
       "  │     └─────── boundary:  x₁(L/R) (\"Outflow\", \"Outflow\")\n",
       "  │                         x₂(L/R) (\"Outflow\", \"Outflow\")\n",
       "  │                         x₃(L/R) (\"Outflow\", \"Outflow\")\n",
       "  │     Setting                                            \n",
       "  │     ├─────────── grid: grid (on GPU)\n",
       "  │     ├─────────── flux: flux\n",
       "  │     ├── user function: usr_func\n",
       "  └─────├─ conserved Vars: sol.U\n",
       "        ├─primitived Vars: sol.W\n",
       "        └────────── clock: clock\n"
      ]
     },
     "execution_count": 2,
     "metadata": {},
     "output_type": "execute_result"
    }
   ],
   "source": [
    "Nx,Ny,Nz = 1024,1,1;\n",
    "nx,ny,nz = 1024,1,1;\n",
    "Lx,Ly,Lz = [0,1],[0,1],[0,1];\n",
    "nothingfunction(args...) = nothing;\n",
    "prob = ProblemConstrcut(  ; N = (Nx,Ny,Nz),\n",
    "                            n = (nx,ny,nz),\n",
    "                           Lx = Lx,\n",
    "                           Ly = Lx,\n",
    "                           Lz = Lx,\n",
    "                 SpatialOrder = 2,  \n",
    "                   TimelOrder = 2,\n",
    "                           T  = Float32,\n",
    "                       Bfield = false,\n",
    "                       Nghost = 4,\n",
    "                      EOSType = \"Adiabatic\",\n",
    "                     Boundary = [\"Outflow\",\"Outflow\",\n",
    "                                 \"Outflow\",\"Outflow\",\n",
    "                                 \"Outflow\",\"Outflow\"],\n",
    "                      usr_foo = nothingfunction)"
   ]
  },
  {
   "cell_type": "code",
   "execution_count": 3,
   "id": "6b7098a8-83c3-4fee-b92f-76092abca4ba",
   "metadata": {},
   "outputs": [
    {
     "data": {
      "text/plain": [
       "pgen_SodX! (generic function with 1 method)"
      ]
     },
     "execution_count": 3,
     "metadata": {},
     "output_type": "execute_result"
    }
   ],
   "source": [
    "function pgen_SodX!(prob)\n",
    "  grid     = prob.grid;\n",
    "  nx,ny,nz = grid.Nx,grid.Ny,grid.Nz;\n",
    "  x1,x2,x3 = grid.x1,grid.x2,grid.x3;\n",
    "\n",
    "  IDN,IEN,IPR  = prob.grid.ind.ρ ,prob.grid.ind.e ,prob.grid.ind.P;\n",
    "  IVX,IVY,IVZ  = prob.grid.ind.v₁,prob.grid.ind.v₂,prob.grid.ind.v₃;\n",
    "  nx,ny,nz = prob.grid.nx,prob.grid.ny,prob.grid.nz;\n",
    "    \n",
    "  P = zeros(eltype(grid),size(prob.sol.U)[1:3]);\n",
    "  ρ = zeros(eltype(grid),size(prob.sol.U)[1:3]);\n",
    "  ρL = 1.0;\n",
    "  PL = 1.0;\n",
    "  ρR = 0.125;\n",
    "  PR = 0.1;\n",
    "\n",
    "  @. ρ[x1.x1f.>=0.5,:,:] = ρR;\n",
    "  @. P[x1.x1f.>=0.5,:,:] = PR;\n",
    "  @.  ρ[x1.x1f.<0.5,:,:] = ρL;\n",
    "  @.  P[x1.x1f.<0.5,:,:] = PL;\n",
    "  SetUpProblemIC!(prob;  ρ = ρ,  p = P)\n",
    "  return nothing\n",
    "end"
   ]
  },
  {
   "cell_type": "code",
   "execution_count": 4,
   "id": "4eb3b670-4f6f-425d-a999-6f2a2b611bb5",
   "metadata": {},
   "outputs": [
    {
     "name": "stderr",
     "output_type": "stream",
     "text": [
      "┌ Warning: ProgressMeter by default refresh meters with additional information in IJulia via `IJulia.clear_output`, which clears all outputs in the cell. \n",
      "│  - To prevent this behaviour, do `ProgressMeter.ijulia_behavior(:append)`. \n",
      "│  - To disable this warning message, do `ProgressMeter.ijulia_behavior(:clear)`.\n",
      "└ @ ProgressMeter /home/doraho/.julia/packages/ProgressMeter/sN2xr/src/ProgressMeter.jl:618\n",
      "\u001b[32mSimulation in rogress :   2%|▂         |  ETA: 0:19:23 (39.59 ms/it)\u001b[39m\n",
      "\u001b[34m  Progress:  iter/Nₒ = 625/30000, t/t₀ = 0.125/0.125\u001b[39m"
     ]
    },
    {
     "name": "stdout",
     "output_type": "stream",
     "text": [
      "Total CPU/GPU time run = 24.697 s,Mzone update per second = 0.026 \n"
     ]
    }
   ],
   "source": [
    "pgen_SodX!(prob)\n",
    "TimeIntegrator!(prob,0.125,30000;\n",
    "               usr_dt = 0.0,\n",
    "             CFL_Coef = 0.3,\n",
    "                diags = [],\n",
    "          loop_number = 100,\n",
    "                 save = false,\n",
    "             save_loc = \"\",\n",
    "             filename = \"\",\n",
    "          file_number = 0,\n",
    "              dump_dt = 0)"
   ]
  },
  {
   "cell_type": "code",
   "execution_count": 5,
   "id": "849c5451-d908-42f8-b8df-e9854a0662a0",
   "metadata": {},
   "outputs": [
    {
     "data": {
      "image/png": "[encoded data removed]",
      "text/plain": [
       "Figure(PyObject <Figure size 1200x600 with 3 Axes>)"
      ]
     },
     "metadata": {},
     "output_type": "display_data"
    },
    {
     "data": {
      "text/plain": [
       "1-element Vector{PyCall.PyObject}:\n",
       " PyObject <matplotlib.lines.Line2D object at 0x7f85aa041a90>"
      ]
     },
     "execution_count": 5,
     "metadata": {},
     "output_type": "execute_result"
    }
   ],
   "source": [
    "w = prob.sol.W;\n",
    "wl= prob.tmp.wl;\n",
    "wr= prob.tmp.wr;\n",
    " F= prob.flux.F;\n",
    "IDN,IEN,IPR  = prob.grid.ind.ρ::Int ,prob.grid.ind.e::Int ,prob.grid.ind.P::Int ;\n",
    "IVX,IVY,IVZ  = prob.grid.ind.v₁::Int,prob.grid.ind.v₂::Int,prob.grid.ind.v₃::Int;\n",
    "is,ie = prob.grid.x1.is::Int,prob.grid.x1.ie::Int;\n",
    "js,je = prob.grid.x2.js::Int,prob.grid.x2.je::Int;\n",
    "ks,ke = prob.grid.x3.ks::Int,prob.grid.x3.ke::Int;\n",
    "\n",
    "figure(figsize=(12,6))\n",
    "subplot(131);\n",
    "\n",
    "d = w[:,js,ks,IDN];\n",
    "plot(d[is:ie],\"k\")\n",
    "\n",
    "subplot(132);\n",
    "\n",
    "d = w[:,js,ks,IPR];\n",
    "plot(d[is:ie],\"k\")\n",
    "\n",
    "subplot(133);\n",
    "\n",
    "d = w[:,js,ks,IVX];\n",
    "plot(d[is:ie],\"k\")"
   ]
  },
  {
   "cell_type": "markdown",
   "id": "6d677013-2ba4-441f-8edd-3ced47104172",
   "metadata": {
    "tags": []
   },
   "source": [
    "# X-dir PPM"
   ]
  },
  {
   "cell_type": "code",
   "execution_count": 6,
   "id": "0f08a157-5762-4f0e-b6a1-cdf0a119f698",
   "metadata": {},
   "outputs": [
    {
     "data": {
      "text/plain": [
       "MHDFlows Problem\n",
       "  │    Features\n",
       "  |     ├──────────── EOS: Adiabatic\n",
       "  │     ├──────── B-field: OFF\n",
       "  ├─────├── spatial Order: 3\n",
       "  │     ├───── time Order: 2\n",
       "  │     ├───── resolution: (1024, 1, 1)\n",
       "  │     └─────── boundary:  x₁(L/R) (\"Outflow\", \"Outflow\")\n",
       "  │                         x₂(L/R) (\"Outflow\", \"Outflow\")\n",
       "  │                         x₃(L/R) (\"Outflow\", \"Outflow\")\n",
       "  │     Setting                                            \n",
       "  │     ├─────────── grid: grid (on GPU)\n",
       "  │     ├─────────── flux: flux\n",
       "  │     ├── user function: usr_func\n",
       "  └─────├─ conserved Vars: sol.U\n",
       "        ├─primitived Vars: sol.W\n",
       "        └────────── clock: clock\n"
      ]
     },
     "execution_count": 6,
     "metadata": {},
     "output_type": "execute_result"
    }
   ],
   "source": [
    "Nx,Ny,Nz = 1024,1,1;\n",
    "nx,ny,nz = 1024,1,1;\n",
    "Lx,Ly,Lz = [0,1],[0,1],[0,1];\n",
    "nothingfunction(args...) = nothing;\n",
    "prob = ProblemConstrcut(  ; N = (Nx,Ny,Nz),\n",
    "                            n = (nx,ny,nz),\n",
    "                           Lx = Lx,\n",
    "                           Ly = Lx,\n",
    "                           Lz = Lx,\n",
    "                 SpatialOrder = 3,  \n",
    "                   TimelOrder = 2,\n",
    "                           T  = Float32,\n",
    "                       Bfield = false,\n",
    "                       Nghost = 4,\n",
    "                      EOSType = \"Adiabatic\",\n",
    "                     Boundary = [\"Outflow\",\"Outflow\",\n",
    "                                 \"Outflow\",\"Outflow\",\n",
    "                                 \"Outflow\",\"Outflow\"],\n",
    "                      usr_foo = nothingfunction)"
   ]
  },
  {
   "cell_type": "code",
   "execution_count": 7,
   "id": "2b758a27-ea2e-4892-bf21-58cb08d07109",
   "metadata": {},
   "outputs": [
    {
     "data": {
      "text/plain": [
       "pgen_SodX! (generic function with 1 method)"
      ]
     },
     "execution_count": 7,
     "metadata": {},
     "output_type": "execute_result"
    }
   ],
   "source": [
    "function pgen_SodX!(prob)\n",
    "  grid     = prob.grid;\n",
    "  nx,ny,nz = grid.Nx,grid.Ny,grid.Nz;\n",
    "  x1,x2,x3 = grid.x1,grid.x2,grid.x3;\n",
    "\n",
    "  IDN,IEN,IPR  = prob.grid.ind.ρ ,prob.grid.ind.e ,prob.grid.ind.P;\n",
    "  IVX,IVY,IVZ  = prob.grid.ind.v₁,prob.grid.ind.v₂,prob.grid.ind.v₃;\n",
    "  nx,ny,nz = prob.grid.nx,prob.grid.ny,prob.grid.nz;\n",
    "    \n",
    "  P = zeros(eltype(grid),size(prob.sol.U)[1:3]);\n",
    "  ρ = zeros(eltype(grid),size(prob.sol.U)[1:3]);\n",
    "  ρL = 1.0;\n",
    "  PL = 1.0;\n",
    "  ρR = 0.125;\n",
    "  PR = 0.1;\n",
    "\n",
    "  @. ρ[x1.x1f.>=0.5,:,:] = ρR;\n",
    "  @. P[x1.x1f.>=0.5,:,:] = PR;\n",
    "  @.  ρ[x1.x1f.<0.5,:,:] = ρL;\n",
    "  @.  P[x1.x1f.<0.5,:,:] = PL;\n",
    "  SetUpProblemIC!(prob;  ρ = ρ,  p = P)\n",
    "  return nothing\n",
    "end"
   ]
  },
  {
   "cell_type": "code",
   "execution_count": 8,
   "id": "36015188-6626-4bca-a6cf-7919576068b7",
   "metadata": {},
   "outputs": [
    {
     "name": "stderr",
     "output_type": "stream",
     "text": [
      "┌ Warning: ProgressMeter by default refresh meters with additional information in IJulia via `IJulia.clear_output`, which clears all outputs in the cell. \n",
      "│  - To prevent this behaviour, do `ProgressMeter.ijulia_behavior(:append)`. \n",
      "│  - To disable this warning message, do `ProgressMeter.ijulia_behavior(:clear)`.\n",
      "└ @ ProgressMeter /home/doraho/.julia/packages/ProgressMeter/sN2xr/src/ProgressMeter.jl:618\n",
      "\u001b[32mSimulation in rogress :   2%|▂         |  ETA: 0:13:20 (27.23 ms/it)\u001b[39m\n",
      "\u001b[34m  Progress:  iter/Nₒ = 624/30000, t/t₀ = 0.125/0.125\u001b[39m"
     ]
    },
    {
     "name": "stdout",
     "output_type": "stream",
     "text": [
      "Total CPU/GPU time run = 16.994 s,Mzone update per second = 0.038 \n"
     ]
    }
   ],
   "source": [
    "pgen_SodX!(prob)\n",
    "TimeIntegrator!(prob,0.125,30000;\n",
    "               usr_dt = 0.0,\n",
    "             CFL_Coef = 0.3,\n",
    "                diags = [],\n",
    "          loop_number = 100,\n",
    "                 save = false,\n",
    "             save_loc = \"\",\n",
    "             filename = \"\",\n",
    "          file_number = 0,\n",
    "              dump_dt = 0)"
   ]
  },
  {
   "cell_type": "code",
   "execution_count": 9,
   "id": "480bccea-bb9d-4746-89f9-bf54adb174bd",
   "metadata": {},
   "outputs": [
    {
     "data": {
      "image/png": "[encoded data removed]",
      "text/plain": [
       "Figure(PyObject <Figure size 1200x600 with 3 Axes>)"
      ]
     },
     "metadata": {},
     "output_type": "display_data"
    },
    {
     "data": {
      "text/plain": [
       "1-element Vector{PyCall.PyObject}:\n",
       " PyObject <matplotlib.lines.Line2D object at 0x7fb6091d6358>"
      ]
     },
     "execution_count": 9,
     "metadata": {},
     "output_type": "execute_result"
    }
   ],
   "source": [
    "w = prob.sol.W;\n",
    "wl= prob.tmp.wl;\n",
    "wr= prob.tmp.wr;\n",
    " F= prob.flux.F;\n",
    "IDN,IEN,IPR  = prob.grid.ind.ρ::Int ,prob.grid.ind.e::Int ,prob.grid.ind.P::Int ;\n",
    "IVX,IVY,IVZ  = prob.grid.ind.v₁::Int,prob.grid.ind.v₂::Int,prob.grid.ind.v₃::Int;\n",
    "is,ie = prob.grid.x1.is::Int,prob.grid.x1.ie::Int;\n",
    "js,je = prob.grid.x2.js::Int,prob.grid.x2.je::Int;\n",
    "ks,ke = prob.grid.x3.ks::Int,prob.grid.x3.ke::Int;\n",
    "\n",
    "figure(figsize=(12,6))\n",
    "subplot(131);\n",
    "\n",
    "d = w[:,js,ks,IDN];\n",
    "plot(d[is:ie],\"k\")\n",
    "\n",
    "subplot(132);\n",
    "\n",
    "d = w[:,js,ks,IPR];\n",
    "plot(d[is:ie],\"k\")\n",
    "\n",
    "subplot(133);\n",
    "\n",
    "d = w[:,js,ks,IVX];\n",
    "plot(d[is:ie],\"k\")"
   ]
  },
  {
   "cell_type": "code",
   "execution_count": null,
   "id": "d57ffcfa-9c2d-4299-be24-2184350877b2",
   "metadata": {},
   "outputs": [],
   "source": []
  }
 ],
 "metadata": {
  "kernelspec": {
   "display_name": "Julia (8 threads) 1.8.2",
   "language": "julia",
   "name": "julia-(8-threads)-1.8"
  },
  "language_info": {
   "file_extension": ".jl",
   "mimetype": "application/julia",
   "name": "julia",
   "version": "1.8.2"
  }
 },
 "nbformat": 4,
 "nbformat_minor": 5
}
